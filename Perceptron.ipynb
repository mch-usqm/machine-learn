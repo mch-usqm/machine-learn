{
 "cells": [
  {
   "cell_type": "markdown",
   "metadata": {},
   "source": [
    "# Perceptron"
   ]
  },
  {
   "attachments": {
    "image.png": {
     "image/png": "[encoded data removed]"
    }
   },
   "cell_type": "markdown",
   "metadata": {},
   "source": [
    "The perceptron is a classifier model represented by a vector **[X]**, that represents the inputs, and a vector **[W]** that represents the weights of the model:\n",
    "\n",
    "![image.png](attachment:image.png)\n",
    "\n",
    "The weighted sum y(t) is filtered through a step function **f** (the Heaviside or sign functions are usually used). \n",
    "\n",
    "### The **f** of Heaviside function is defined as follows:\n",
    "\n",
    "**f** = 1 if y(t) >0             \n",
    "**f**= 0 if y(t) <=0\n",
    "\n",
    "### If **f** is the \"sign\" function:\n",
    "\n",
    "**f** = 1 if y(t) >0             \n",
    "**f** = -1 if y(t) <=0"
   ]
  },
  {
   "cell_type": "markdown",
   "metadata": {},
   "source": [
    "### Implementation of the Perceptron Model to Predict the Output of the *OR* Boolean table\n",
    "\n",
    "\n",
    " A |  B  | Output\n",
    " --|-----|-------\n",
    " 0 |  0  |  0\n",
    " 0 |  1  |  1\n",
    " 1 |  0  |  1\n",
    " 1 |  1  |  1\n",
    " \n",
    " \n",
    " \n",
    " "
   ]
  },
  {
   "cell_type": "code",
   "execution_count": 16,
   "metadata": {},
   "outputs": [
    {
     "name": "stdout",
     "output_type": "stream",
     "text": [
      "w initial= [ 0.98784644  0.6091611   0.10710896]\n",
      "w final= [ 0.98784644  0.6091611  -0.09289104]\n",
      "Test Results\n",
      "[0 1]:0.5162700623383536 -->1\n",
      "Test Results\n",
      "[0 0]:-0.0928910406643027 -->0\n"
     ]
    }
   ],
   "source": [
    "from random import choice\n",
    "from numpy import array, dot, random\n",
    "\n",
    "# Here is the implementation with the Heaviside function.\n",
    "Heaviside = lambda x: 0 if x <=0 else 1\n",
    "\n",
    "# For implementation with the sign function:\n",
    "#step_ = lambda x: -1 if x < 0 else 1\n",
    "\n",
    "training= [(array([0,0,1]), 0),\n",
    "           (array([0,1,1]), 1),\n",
    "           (array([1,0,1]), 1),\n",
    "           (array([1,1,1]), 1),]\n",
    "test=[array([0,1,1]),array([0,0,1])]\n",
    "\n",
    "w=random.rand(3)\n",
    "print(\"w initial=\", w)\n",
    "errors =[]\n",
    "eta= 2/10\n",
    "n=50\n",
    "\n",
    "for i in range(n):\n",
    "    x, expected = choice(training)    \n",
    "    result=dot(w,x)\n",
    "    error = expected - Heaviside(result)\n",
    "    errors.append(error)\n",
    "    if error!=0:\n",
    "       w+= eta*error*x\n",
    "print(\"w final=\", w)    \n",
    "\n",
    "for x in test:\n",
    "    result = dot(x,w)\n",
    "    print('Test Results')\n",
    "    print(\"{}:{} -->{}\".format(x[:2], result, Heaviside(result)))\n",
    "    "
   ]
  },
  {
   "cell_type": "markdown",
   "metadata": {},
   "source": [
    "## Convergence of the model to error = 0"
   ]
  },
  {
   "cell_type": "code",
   "execution_count": 17,
   "metadata": {},
   "outputs": [
    {
     "data": {
      "text/plain": [
       "[<matplotlib.lines.Line2D at 0x6096930>]"
      ]
     },
     "execution_count": 17,
     "metadata": {},
     "output_type": "execute_result"
    },
    {
     "data": {
      "image/png": "[encoded data removed]",
      "text/plain": [
       "<matplotlib.figure.Figure at 0x6055f90>"
      ]
     },
     "metadata": {},
     "output_type": "display_data"
    }
   ],
   "source": [
    "%matplotlib inline\n",
    "from pylab import plot, ylim\n",
    "ylim([-1, 1])\n",
    "plot(errors)"
   ]
  }
 ],
 "metadata": {
  "kernelspec": {
   "display_name": "Python 3",
   "language": "python",
   "name": "python3"
  },
  "language_info": {
   "codemirror_mode": {
    "name": "ipython",
    "version": 3
   },
   "file_extension": ".py",
   "mimetype": "text/x-python",
   "name": "python",
   "nbconvert_exporter": "python",
   "pygments_lexer": "ipython3",
   "version": "3.6.1"
  }
 },
 "nbformat": 4,
 "nbformat_minor": 2
}
